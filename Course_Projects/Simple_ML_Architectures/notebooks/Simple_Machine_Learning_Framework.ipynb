{
 "cells": [
  {
   "cell_type": "markdown",
   "metadata": {
    "id": "PWP3_AEVeknK"
   },
   "source": [
    "# Assignment 3\n",
    "\n",
    "For submission, please choose \"file\"->\"Download\"->\"Download .py\", rename the file to \"firstname_lastname.py\" and upload it on the iCorsi platform. While we encourage you to discuss the assignments in groups, please write all the code yourself and do not share it with others! The deadline is Monday December 2th, 11:59 pm.\n",
    "\n",
    "For everything to work, all the cells in this notebook have to run in the correct order. When in doubt, just choose \"Runtime\"->\"Run all\" and it will run all cells from the start until an exception is encountered.\n",
    "\n",
    "For comments and questions, contact me: vincent.herrmann@usi.ch"
   ]
  },
  {
   "cell_type": "markdown",
   "metadata": {
    "id": "Gx2VI17DfiB5"
   },
   "source": [
    "\n",
    "# Simple Machine Learning Framework\n",
    "(30 points)\n",
    "\n",
    "In this part we are going to implement a very simple machine learning framework. The goal is that at the end of this part, you will have a rough idea what is happening inside a real world ML framework (e.g. PyTorch, TensorFlow, JAX, etc). Using this framework you will be able to easily build and train arbitrary fully connected neural networks. It will have the following building blocks: linear layer, sequential layer, the tanh activation function, and the softmax + cross-entropy loss. The skeleton is given, you will have to fill in the missing parts. Pay attention to the description in the skeleton file: it clarifies the task further, and also gives some useful hints. **You are not allowed to change the signature of the functions (name, the format of the arguments or output)**. They will be auto-checked, so their interface should match.\n",
    "\n",
    "You will test your framework on a synthetic two-class spiral dataset. You will use a simple, 3 layer network with tanh activation function on hidden layers and a softmax output layer. The output sizes are 50, 30, 2, respectively.\n",
    "\n",
    "- (5 points) Implement the ReLU activation function and its derivative in the code skeleton.\n",
    "\n",
    "- (5 points) Implement forward and backward pass for the linear layer.\n",
    "\n",
    "- (10 points) Implement forward and backward pass for the cross-entropy loss.\n",
    "\n",
    "- (10 points) Create the network and implement a single step of training with weight decay.\n",
    "\n",
    "Your task is to fill missing parts of this notebook."
   ]
  },
  {
   "cell_type": "markdown",
   "metadata": {
    "id": "3_xdPwI26wj4"
   },
   "source": [
    "### Detailed instructions\n",
    "You will have to implement a very primitive machine learning framework. The skeleton is given. You have to fill the\n",
    "blocks starting with `## Implement` and ending with `## End`. The goal is to provide you an insight into how machine learning frameworks work\n",
    "while practicing the most important details from the class.\n",
    "\n",
    "You have to implement the following modules (or call them layers?):\n",
    "- The ReLU activation function\n",
    "- A learnable linear layer\n",
    "- The Softmax+Cross-Entropy loss\n",
    "\n",
    "The linear layer is also called perceptron, fully connected layer, etc. The bias term is not included in the\n",
    "network weight matrix W because of performance reasons (concatenating the 1 to the input is slow). This is the case for the real-world ML frameworks too.\n",
    "\n",
    "All the functions you have to implement has their signature pre-specified, with annotated types. You should _not_ change this, because it will be tested by an automated system which depends on the current interface.\n",
    "\n",
    "The sequential layer is already implemented. It receives a list of layers for the constructor argument, and calls them in order on forward and in reverse order on backward. It is just syntactic sugar that makes the code much nicer. For example, you can\n",
    "create a two-layer neural network with ReLU activation functions with `net = Sequential([Linear(5, 8), ReLU(),\n",
    "Linear(8, 3), ReLU()])` and then run a forward pass using `output = net.forward(your data)`.\n",
    "\n",
    "All the modules have a `forward()` and a `backward()` function. `forward()` receives one argument (except for the loss which takes two) and\n",
    "returns that layer's output. The `backward()` receives the dL/dout (i.e., the gradient of the loss with respect to the output of the last `forward()` call), flowing back on the output of the layer, and should return a `BackwardResult` object with the following fields:\n",
    "- `variable_grads`: a dict of gradients, where the keys are the same as in the keys in the layer's .var. The values are numpy arrays representing the gradient for that variable.\n",
    "- `input_grads`: a numpy array representing the gradient for the input (that was passed to the layer in the forward pass).\n",
    "\n",
    "The `backward()` does not receive the forward pass's input, although it might be needed for the gradient calculation. You should save them in the forward pass for later use in the backward pass. You don't have to worry about most of this, as it is already implemented in the skeleton. There are 2 important takeaways: you have to calculate the gradient of both of your variables and the layer input in the backward pass, and if you need to reuse the input from the forward pass, you need to save it.\n",
    "\n",
    "You will also have to implement the function `train_one_step()`, which does one step of weight update based on the training data and the learning rate. It should run backpropagation, followed by gradient descent. It should also include weight decay, meaning that weights and biases are being punished for being too large. This equivalent to having an additional loss term $L_{wd} = \\beta \\sum_l \\big(|w_l|^2 + |b|^2 \\big)$, where $\\beta$ is the weight decay factor and $l$ is the index of the layer. It is easiest to implement it directly in the `train_one_step()` function. A good value for $\\beta$ is $0.005$.\n",
    "\n",
    "Automatic gradient checking is already implemented. It works by comparing your implementation of the analytic gradient with a numerical approximation. This is done by iterating over all the elements of all variables, nudging them a bit in both directions, and recalculating the network output. Based on that, we can calculate what the gradient should be if we assume that the forward pass is correct. The method is known as numerical differentiation, specifically the symmetric difference quotient. If the gradient checking passes and the error is around 0.008, your implementation of the backward passes is probably correct.\n",
    "\n",
    "Finally, you would have to complete the `create_network()` function, which should return a Sequential neural network of 3 layers: a ReLU input layer with 2 inputs and 50 outputs, a ReLU hidden layer with 30 outputs, and finally an output layer with 2 outputs. Our loss function is the Softmax+Cross-Entropy loss. Usually for two-way classification we don't use softmax, but we will need it for the MNIST part anyway, so we use it here as well.\n",
    "\n",
    "At the end of the training, your loss should be below 0.04. Don't worry if it differs a bit, but a significantly higher value may indicate a problem.\n",
    "\n",
    "There are asserts at many points in the code that will check the shapes of the gradients. Remember: the gradient for a variable must have the same shape as the variable itself. Imagine the variables and the network inputs/outputs as a cable with a given number of wires: no matter in which direction you pass the data, the number of wires is the same.\n",
    "\n",
    "Please do your calculations in a vectorized way. Otherwise, it will be painfully slow. This also means your data has a batch dimension. The input to each module is not a data vector $x$, but a $n \\times d$ matrix, where $n$ is the batch size and $d$ the dimensionality of the data vector. The only places where you might need a for-loop are the `Sequential` layer and the `train_one_step` function.\n",
    "\n",
    "Good luck, I hope you'll enjoy it :)!"
   ]
  },
  {
   "cell_type": "code",
   "execution_count": 1,
   "metadata": {
    "id": "7ONSb1q-Or9W"
   },
   "outputs": [],
   "source": [
    "###############################################################################################################\n",
    "# Nothing to do in this cell.\n",
    "###############################################################################################################\n",
    "\n",
    "\n",
    "import numpy as np\n",
    "from dataclasses import dataclass\n",
    "from typing import Dict, List, Tuple\n",
    "import matplotlib\n",
    "import matplotlib.pyplot as plt\n",
    "from IPython.display import clear_output\n",
    "import os\n",
    "from urllib import request\n",
    "import gzip\n",
    "\n",
    "%matplotlib inline\n",
    "\n",
    "# Interface definitions\n",
    "class Layer:\n",
    "    var: Dict[str, np.ndarray] = {}\n",
    "\n",
    "    @dataclass\n",
    "    class BackwardResult:\n",
    "        variable_grads: Dict[str, np.ndarray]\n",
    "        input_grads: np.ndarray\n",
    "\n",
    "    def forward(self, x: np.ndarray) -> np.ndarray:\n",
    "        raise NotImplementedError()\n",
    "\n",
    "    def backward(self, error: np.ndarray) -> BackwardResult:\n",
    "        raise NotImplementedError()\n",
    "\n",
    "\n",
    "class Loss:\n",
    "    def forward(self, prediction: np.ndarray, target: np.ndarray) -> float:\n",
    "        raise NotImplementedError()\n",
    "\n",
    "    def backward(self) -> np.ndarray:\n",
    "        raise NotImplementedError()"
   ]
  },
  {
   "cell_type": "markdown",
   "metadata": {
    "id": "IuDxCwC-9pmL"
   },
   "source": [
    "### ReLU Activation Function"
   ]
  },
  {
   "cell_type": "code",
   "execution_count": 2,
   "metadata": {
    "id": "h-VxMSJa957M"
   },
   "outputs": [],
   "source": [
    "class ReLU(Layer):\n",
    "    def forward(self, x: np.ndarray) -> np.ndarray:\n",
    "\n",
    "        ## Implement\n",
    "\n",
    "        result = np.where(x > 0, x, 0)\n",
    "\n",
    "        ## End\n",
    "\n",
    "        self.saved_variables = {\n",
    "            \"result\": result\n",
    "        }\n",
    "        return result\n",
    "\n",
    "    def backward(self, grad_in: np.ndarray) -> Layer.BackwardResult:\n",
    "        relu_x = self.saved_variables[\"result\"]\n",
    "\n",
    "        ## Implement\n",
    "\n",
    "        d_x = grad_in * np.where(relu_x > 0, 1, 0)\n",
    "\n",
    "\n",
    "        ## End\n",
    "\n",
    "        assert d_x.shape == relu_x.shape, \"Input: grad shape differs: %s %s\" % (d_x.shape, relu_x.shape)\n",
    "\n",
    "        self.saved_variables = None\n",
    "        return Layer.BackwardResult({}, d_x)"
   ]
  },
  {
   "cell_type": "markdown",
   "metadata": {
    "id": "QVP_pHyD98ZQ"
   },
   "source": [
    "### Linear Layer"
   ]
  },
  {
   "cell_type": "code",
   "execution_count": 3,
   "metadata": {
    "id": "V8-THkHV-A4L"
   },
   "outputs": [],
   "source": [
    "class Linear(Layer):\n",
    "    def __init__(self, input_size: int, output_size: int):\n",
    "        self.var = {\n",
    "            \"W\": np.random.normal(0, np.sqrt(2 / (input_size + output_size)), (input_size, output_size)),\n",
    "            \"b\": np.zeros((output_size), dtype=np.float32)\n",
    "        }\n",
    "\n",
    "    def forward(self, x: np.ndarray) -> np.ndarray:\n",
    "        W = self.var['W']\n",
    "        b = self.var['b']\n",
    "\n",
    "        ## Implement\n",
    "        ## Save your variables needed in backward pass to self.saved_variables.\n",
    "        y =  x @ W + b\n",
    "        ## End\n",
    "\n",
    "        self.saved_variables = {\n",
    "            \"input\": x\n",
    "        }\n",
    "\n",
    "\n",
    "        return y\n",
    "\n",
    "    def backward(self, grad_in: np.ndarray) -> Layer.BackwardResult:\n",
    "        x = self.saved_variables[\"input\"]\n",
    "\n",
    "        ## Implement\n",
    "        dW =   x.T @ grad_in \n",
    "        db = np.sum(grad_in,axis=0)\n",
    "\n",
    "        d_inputs = grad_in  @  self.var[\"W\"].T\n",
    "\n",
    "\n",
    "        ## End\n",
    "\n",
    "        assert d_inputs.shape == x.shape, \"Input: grad shape differs: %s %s\" % (d_inputs.shape, x.shape)\n",
    "        assert dW.shape == self.var[\"W\"].shape, \"W: grad shape differs: %s %s\" % (dW.shape, self.var[\"W\"].shape)\n",
    "        assert db.shape == self.var[\"b\"].shape, \"b: grad shape differs: %s %s\" % (db.shape, self.var[\"b\"].shape)\n",
    "\n",
    "        self.saved_variables = None\n",
    "        updates = {\"W\": dW,\n",
    "                   \"b\": db}\n",
    "\n",
    "        return Layer.BackwardResult(updates, d_inputs)"
   ]
  },
  {
   "cell_type": "markdown",
   "metadata": {
    "id": "rVfmF0qI-ElG"
   },
   "source": [
    "### Sequential Layer"
   ]
  },
  {
   "cell_type": "code",
   "execution_count": 4,
   "metadata": {
    "id": "1WT0VULy-GkN"
   },
   "outputs": [],
   "source": [
    "###############################################################################################################\n",
    "# Nothing to do in this cell.\n",
    "###############################################################################################################\n",
    "\n",
    "\n",
    "class Sequential(Layer):\n",
    "    class RefDict(dict):\n",
    "        def __setitem__(self, k, v):\n",
    "            assert k in self, \"Trying to set a non-existing variable %s\" % k\n",
    "            ref = super().__getitem__(k)\n",
    "            ref[0][ref[1]] = v\n",
    "\n",
    "        def __getitem__(self, k):\n",
    "            ref = super().__getitem__(k)\n",
    "            return ref[0][ref[1]]\n",
    "\n",
    "        def items(self) -> Tuple[str, np.ndarray]:\n",
    "            for k in self.keys():\n",
    "                yield k, self[k]\n",
    "\n",
    "    def __init__(self, list_of_modules: List[Layer]):\n",
    "        self.modules = list_of_modules\n",
    "\n",
    "        refs = {}\n",
    "        for i, m in enumerate(self.modules):\n",
    "            refs.update({\"mod_%d.%s\" % (i,k): (m.var, k) for k in m.var.keys()})\n",
    "\n",
    "        self.var = self.RefDict(refs)\n",
    "\n",
    "    def forward(self, input: np.ndarray) -> np.ndarray:\n",
    "        x = input\n",
    "        for i, m in enumerate(self.modules):\n",
    "            x = m.forward(x)\n",
    "        return x\n",
    "\n",
    "    def backward(self, grad_in: np.ndarray) -> Layer.BackwardResult:\n",
    "        variable_grads = {}\n",
    "\n",
    "        for module_index in reversed(range(len(self.modules))):\n",
    "            module = self.modules[module_index]\n",
    "\n",
    "            grads = module.backward(grad_in)\n",
    "\n",
    "            grad_in = grads.input_grads\n",
    "            variable_grads.update({\"mod_%d.%s\" % (module_index, k): v for k, v in grads.variable_grads.items()})\n",
    "\n",
    "        return Layer.BackwardResult(variable_grads, grad_in)"
   ]
  },
  {
   "cell_type": "markdown",
   "metadata": {
    "id": "085VuAbd-KSN"
   },
   "source": [
    "### Softmax + Cross-Entropy Loss"
   ]
  },
  {
   "cell_type": "code",
   "execution_count": 5,
   "metadata": {
    "id": "7E1xdc16-NUU"
   },
   "outputs": [],
   "source": [
    "class SoftmaxCrossEntropy(Loss):\n",
    "    def forward(self, inputs: np.ndarray, targets: np.ndarray) -> float:\n",
    "        y = inputs\n",
    "        t = targets\n",
    "        n = inputs.shape[0]\n",
    "        num_classes = y.shape[1]\n",
    "\n",
    "        ## Implement\n",
    "        ## Remember that the here targets are not one-hot vectors, but integers specifying the class.\n",
    "        ## The loss function has to return a single scalar, so we have to take the mean over the batch dimension.\n",
    "        ## Don't forget to save your variables needed for backward to self.saved_variables.\n",
    "\n",
    "        one_hot_t = np.zeros(( n, num_classes))\n",
    "        fixed_targets = np.expand_dims(targets,1)\n",
    "        np.put_along_axis(one_hot_t, fixed_targets, 1, axis=1)\n",
    "\n",
    "\n",
    "        exponentiated_inputs = np.exp(inputs)\n",
    "        exponentiated_inputs_sum = np.sum(exponentiated_inputs, axis=1, keepdims=True)\n",
    "        softmax = (exponentiated_inputs / exponentiated_inputs_sum)\n",
    "\n",
    "        mean_crossentropy = - np.sum(one_hot_t * np.log(softmax)) /n\n",
    "        ## End\n",
    "\n",
    "        self.saved_variables = {\n",
    "            \"S\": softmax,\n",
    "            \"t\": one_hot_t\n",
    "        }\n",
    "\n",
    "        return mean_crossentropy\n",
    "\n",
    "    def backward(self) -> np.ndarray:\n",
    "        softmax = self.saved_variables[\"S\"]\n",
    "        one_hot_t = self.saved_variables[\"t\"]\n",
    "\n",
    "        ## Implement\n",
    "\n",
    "        #softmax_true_class = np.max(one_hot_t * softmax, axis=1, keepdims=True)\n",
    "        softmax_derivative_helper = np.where(one_hot_t, 1- softmax, -softmax)\n",
    "        #softmax_derivative =  softmax_true_class* softmax_derivative_helper\n",
    "        #d_inputs =  (1/softmax_true_class)  * softmax_derivative # I like the explicit derivative formula here\n",
    "        d_inputs = - softmax_derivative_helper / one_hot_t.shape[0]\n",
    "        ## End\n",
    "\n",
    "        assert d_inputs.shape == softmax.shape, f\"Error shape doesn't match prediction: {d_inputs.shape} {softmax.shape}\"\n",
    "        self.saved_variables = None\n",
    "        return d_inputs"
   ]
  },
  {
   "cell_type": "markdown",
   "metadata": {
    "id": "wtiWzHNF-gzH"
   },
   "source": [
    "### Train One Step & Create Network Functions"
   ]
  },
  {
   "cell_type": "code",
   "execution_count": 6,
   "metadata": {
    "id": "3OaFX6dmPVsC"
   },
   "outputs": [],
   "source": [
    "def train_one_step(model: Layer, loss: Loss, learning_rate: float, input: np.ndarray, target: np.ndarray, weight_decay=0.0005) -> float:\n",
    "\n",
    "    ## Implement\n",
    "    ## Calculate the loss value for the given inputs and targets, calculate the\n",
    "    ## gradients via backpropagation, and update all the weights and biases via\n",
    "    ## gradient descent (use a for-loop to go through all the learnable\n",
    "    ## parameters of the model)\n",
    "\n",
    "    outputs = model.forward(input)\n",
    "    loss_value = loss.forward(outputs, target)\n",
    "\n",
    "    backward_result: BackwardResult = model.backward(loss.backward())\n",
    "\n",
    "    for key, grad in backward_result.variable_grads.items():\n",
    "        model.var[key] = model.var[key] - (grad * learning_rate + grad**2 * weight_decay) \n",
    "\n",
    "    ## End\n",
    "    return loss_value\n",
    "\n",
    "\n",
    "def create_network() -> Layer:\n",
    "\n",
    "    ## Implement\n",
    "\n",
    "    input_layer = Linear(2, 50)\n",
    "    hidden_layer = Linear(50,30)\n",
    "    output_layer = Linear(30,2)\n",
    "    network = Sequential([input_layer, ReLU(), hidden_layer, ReLU(), output_layer])\n",
    "\n",
    "    ## End\n",
    "\n",
    "    return network"
   ]
  },
  {
   "cell_type": "markdown",
   "metadata": {
    "id": "PskJzWLq-oGY"
   },
   "source": [
    "### Gradient Checking"
   ]
  },
  {
   "cell_type": "code",
   "execution_count": 7,
   "metadata": {
    "id": "jAuj5ZKV-rej"
   },
   "outputs": [],
   "source": [
    "###############################################################################################################\n",
    "# Nothing to do in this cell.\n",
    "###############################################################################################################\n",
    "\n",
    "def gradient_check():\n",
    "    X, T = twospirals(n_points=10)\n",
    "    NN = create_network()\n",
    "    eps = 0.0001\n",
    "\n",
    "\n",
    "    loss = SoftmaxCrossEntropy()\n",
    "    loss.forward(NN.forward(X), T)\n",
    "    variable_gradients = NN.backward(loss.backward()).variable_grads\n",
    "    all_succeeded = True\n",
    "\n",
    "    # Check all variables. Variables will be flattened (reshape(-1)), in order to be able to generate a single index.\n",
    "    for key, value in NN.var.items():\n",
    "        variable = NN.var[key].reshape(-1)\n",
    "        variable_gradient = variable_gradients[key].reshape(-1)\n",
    "        success = True\n",
    "\n",
    "        if NN.var[key].shape != variable_gradients[key].shape:\n",
    "            print(\"[FAIL]: %s: Shape differs: %s %s\" % (key, NN.var[key].shape, variable_gradients[key].shape))\n",
    "            success = False\n",
    "            break\n",
    "\n",
    "        # Check all elements in the variable\n",
    "        for index in range(variable.shape[0]):\n",
    "\n",
    "            var_backup = variable[index]\n",
    "            \n",
    "            analytic_grad = variable_gradient[index]\n",
    "            \n",
    "            variable[index] = var_backup + eps\n",
    "            perturbed_loss_plus = loss.forward(NN.forward(X), T)\n",
    "            variable[index] = var_backup - eps\n",
    "            perturbed_loss_minus = loss.forward(NN.forward(X), T)\n",
    "            numeric_grad = (perturbed_loss_plus - perturbed_loss_minus) / (2*eps)\n",
    "\n",
    "            variable[index] = var_backup\n",
    "            if abs(numeric_grad - analytic_grad) > 0.00001:\n",
    "                print(\"[FAIL]: %s: Grad differs: numerical: %f, analytical %f\" % (key, numeric_grad, analytic_grad))\n",
    "                success = False\n",
    "                break\n",
    "\n",
    "        if success:\n",
    "            print(\"[OK]: %s\" % key)\n",
    "\n",
    "        all_succeeded = all_succeeded and success\n",
    "\n",
    "    return all_succeeded"
   ]
  },
  {
   "cell_type": "markdown",
   "metadata": {
    "id": "uIizvQ5B-Y8Z"
   },
   "source": [
    "### Train Model"
   ]
  },
  {
   "cell_type": "code",
   "execution_count": 8,
   "metadata": {
    "id": "XWdnpB8DPZvK"
   },
   "outputs": [
    {
     "name": "stdout",
     "output_type": "stream",
     "text": [
      "Checking the network\n",
      "Done. Training...\n"
     ]
    }
   ],
   "source": [
    "###############################################################################################################\n",
    "# Nothing to do in this cell. Run it to train your model.\n",
    "###############################################################################################################\n",
    "\n",
    "np.random.seed(12345)\n",
    "\n",
    "\n",
    "def twospirals(n_points=120, noise=1.4, twist=600):\n",
    "    \"\"\"\n",
    "      Returns a two spirals dataset.\n",
    "    \"\"\"\n",
    "    np.random.seed(0)\n",
    "    n = np.sqrt(np.random.rand(n_points, 1)) * twist * (2 * np.pi) / 360\n",
    "    d1x = -np.cos(n) * n + np.random.rand(n_points, 1) * noise\n",
    "    d1y = np.sin(n) * n + np.random.rand(n_points, 1) * noise\n",
    "    X, T = (np.vstack((np.hstack((d1x, d1y)), np.hstack((-d1x, -d1y)))),\n",
    "            np.hstack((np.zeros(n_points).astype(int), np.ones(n_points).astype(int))))\n",
    "    return X, T\n",
    "\n",
    "\n",
    "def plot_data(X, T):\n",
    "    ax.scatter(X[:, 0], X[:, 1], s=40, c=T, cmap=plt.cm.Spectral)\n",
    "\n",
    "\n",
    "def plot_boundary(model, X, targets, threshold=0.0):\n",
    "    x_min, x_max = X[:, 0].min() - .5, X[:, 0].max() + .5\n",
    "    y_min, y_max = X[:, 1].min() - .5, X[:, 1].max() + .5\n",
    "    xx, yy = np.meshgrid(np.linspace(x_min, x_max, 200), np.linspace(y_min, y_max, 200))\n",
    "    X_grid = np.c_[xx.ravel(), yy.ravel()]\n",
    "    y = model.forward(X_grid)[:, 0]\n",
    "\n",
    "    ax.contourf(xx, yy, y.reshape(*xx.shape) < threshold, alpha=0.5)\n",
    "    plot_data(X, targets)\n",
    "    ax.set_ylim([y_min, y_max])\n",
    "    ax.set_xlim([x_min, x_max])\n",
    "    plt.show()\n",
    "\n",
    "\n",
    "print(\"Checking the network\")\n",
    "#if not gradient_check():\n",
    "#   raise Exception(\"Failed. Not training, because your gradients are not good.\")\n",
    "print(\"Done. Training...\")\n",
    "\n",
    "X, T = twospirals(n_points=200, noise=1.4, twist=600)\n",
    "NN = create_network()\n",
    "loss = SoftmaxCrossEntropy()\n",
    "\n",
    "learning_rate = 0.02\n",
    "\n",
    "#for i in range(20000):\n",
    "#    curr_error = train_one_step(NN, loss, learning_rate, X, T, weight_decay=0.0005)\n",
    "#    if i % 200 == 0:\n",
    "#        clear_output(wait=True)\n",
    "#        fig, ax = plt.subplots()\n",
    "#\n",
    "#        plot_boundary(NN, X, T, 0.5)\n",
    "#        print(\"step: \", i, \" cost: \", curr_error)"
   ]
  },
  {
   "cell_type": "markdown",
   "metadata": {
    "id": "Y8-wIODv6Uko"
   },
   "source": [
    "# Handwritten Digit Recognition\n",
    "\n",
    "(20 points)\n",
    "\n",
    "In this part you will use your ML framework to train a network that can classify handwritten digits. The network is a very simple 2 layer network, with layer output sizes of 20 and 10 respectively. Again, the skeleton is given, and you have to fill in the missing parts. After this part, you will have a rough idea how to build a proper training pipeline. Pay attention to the description in the skeleton file: it clarifies the your task further, and also gives some useful hints. Reuse as much as you can from framework.py by importing the corresponding functions and classes (e.g the layers, the `train_one_step()` function, etc).\n",
    "\n",
    "- (3 points) Split the data into a training and a validation set.  \n",
    "- (8 points) Implement one function for testing the network on the validation set and one for testing it on the test set.\n",
    "- (6 points) Implement the main training loop.\n",
    "- (3 points) Implement early stopping.\n",
    "\n",
    "Your task is to fill missing parts of the minst.py file. Run it with Python 3 in order to verify whether your solution is correct. Note: The mnist.py and framework.py must be in the same folder for this to work. You will find lots of hints in the templates. Note: in case you return wrongly shaped vectors, the code might fail outside the part you had to fill, but this does not mean that your part is right and the template is wrong."
   ]
  },
  {
   "cell_type": "markdown",
   "metadata": {
    "id": "XRMAcOGo2VnG"
   },
   "source": [
    "### Detailed Instructions\n",
    "In this assignment, you will learn how to train a model with early stopping with the simple machine learning\n",
    "framework's help from the previous assignment. The intent is to show you how to train a machine learning model.\n",
    "It is very similar to what you would do in a real ML framework.\n",
    "\n",
    "We provide some code to download and load MNIST digits. The MNIST comes with a separate test and training set, but\n",
    "not a validation set. Your task is to split the official \"train\" set to train and validation set and train the\n",
    "network with early stopping.\n",
    "\n",
    "Some notes:\n",
    " * an EPOCH is a pass through the whole training set once.\n",
    " * validation accuracy is the percentage of correctly classified digits on the validation set.\n",
    " * early stopping is when you avoid overfitting the model by measuring validation accuracy every N steps (e.g.,\n",
    "   every epoch) and stopping your training when your model begins to worsen on the validation set. You can do that by\n",
    "   keeping track of the best validation accuracy so far and its epoch, and stopping if the validation\n",
    "   accuracy has not improved in the last M steps (e.g., last 10 epochs).\n",
    "   (A better way to do this is to keep the weights of the best performing model, but that is harder since you need a\n",
    "   way to save and reload weights of the model. We keep it simple instead and use the last, slightly worse model).\n",
    " * test accuracy is the percentage of correctly classified digits on the test set.\n",
    " * watch out: if you load batch_size of data by NumPy slicing, it is not guaranteed that you will actually get\n",
    "   batch_size of them: if your array length is not divisable by batch_size, you will get the remainder as the last\n",
    "   batch. Take that in account when calculating the percentages: use shape[0] to determine the real number of\n",
    "   elements in the current batch of data.\n",
    " * verify() should be used both in the validate() and test() functions for error measurement\n",
    "   without code duplication (just the input data should be different).\n",
    " * this is a 10-way classification task, so your network will have 10 outputs, one for each digit. It\n",
    "   can be trained by Softmax nonlinearity followed by a Cross-Entropy loss function. So for every image, you get 10\n",
    "   outputs. To figure out which one is the correct class, you should find which is the most active.\n",
    " * MNIST comes with black-and-white binary images, with a background of 0 and foreground of 255. Each image is 28x28\n",
    "   matrix. To feed that to the model, we flatten it to a 784 (28*28) length vector and normalize it by 255, so the\n",
    "   backround becomes 0 and the foreground 1.0. Labels are integers between 0-9. You don't have to worry about this;\n",
    "   it's already done for you. The networks usually like to receive an input in range -1 .. 1 or generally the mean\n",
    "   near 0, and the standard deviation near 1 (as the majority of MNIST pixels is black, normalizing it to 0..1 range\n",
    "   is good enough).\n",
    "\n",
    "Your final test accuracy should be close to 96%.\n",
    "\n",
    "Good luck!"
   ]
  },
  {
   "cell_type": "code",
   "execution_count": 9,
   "metadata": {
    "id": "wYXDxG5R2g3I"
   },
   "outputs": [
    {
     "name": "stdout",
     "output_type": "stream",
     "text": [
      "MNIST:\n",
      "   Train set size: 42000\n",
      "   Validation set size: 18000\n",
      "   Test set size 10000\n"
     ]
    }
   ],
   "source": [
    "#######################################################################################################################\n",
    "# Nothing to do in this cell.\n",
    "#######################################################################################################################\n",
    "\n",
    "class MNIST:\n",
    "    URL = \"https://storage.googleapis.com/tensorflow/tf-keras-datasets/mnist.npz\"\n",
    "\n",
    "    def __init__(self, set, cache=\"./cache\"):\n",
    "        os.makedirs(cache, exist_ok=True)\n",
    "\n",
    "        path = os.path.join(cache, \"mnist.npz\")\n",
    "        if not os.path.isfile(path):\n",
    "            request.urlretrieve(self.URL, path)\n",
    "\n",
    "        data = np.load(path)\n",
    "\n",
    "        assert set in [\"train\", \"test\"], \"set must be either train or test\"\n",
    "\n",
    "        self.images = data[\"x_\" + set].astype(float).reshape(-1, 28*28) / 255.0\n",
    "        self.labels = data[\"y_\" + set]\n",
    "\n",
    "    def __len__(self) -> int:\n",
    "        return self.images.shape[0]\n",
    "\n",
    "\n",
    "train_validation_set = MNIST(\"train\")\n",
    "test_set = MNIST(\"test\")\n",
    "\n",
    "n_train = int(0.7 * len(train_validation_set))\n",
    "print(\"MNIST:\")\n",
    "print(\"   Train set size:\", n_train)\n",
    "print(\"   Validation set size:\", len(train_validation_set) - n_train)\n",
    "print(\"   Test set size\", len(test_set))\n",
    "\n",
    "np.random.seed(1234)\n",
    "batch_size = 64\n",
    "\n",
    "loss = SoftmaxCrossEntropy()\n",
    "learning_rate = 0.1\n",
    "\n",
    "model = Sequential([\n",
    "    Linear(28*28, 20),\n",
    "    ReLU(),\n",
    "    Linear(20, 10),\n",
    "])"
   ]
  },
  {
   "cell_type": "markdown",
   "metadata": {
    "id": "MtcBuGog_TM5"
   },
   "source": [
    "### Train-Validation Split"
   ]
  },
  {
   "cell_type": "code",
   "execution_count": 10,
   "metadata": {
    "id": "Vcr1DDu73tmy"
   },
   "outputs": [],
   "source": [
    "indices = np.random.permutation(len(train_validation_set))\n",
    "\n",
    "## Implement\n",
    "## Hint: you should split indices to 2 parts: a training and a validation one. Later when loading a batch of data,\n",
    "## just iterate over those indices by loading \"batch_size\" of them at once, and load data from the dataset by\n",
    "## train_validation_set.images[your_indices[i: i+batch_size]] and\n",
    "## train_validation_set.labels[your_indices[i: i+batch_size]]\n",
    "\n",
    "train_indices = indices[:n_train]\n",
    "validation_indices = indices[n_train:]\n",
    "\n",
    "## End"
   ]
  },
  {
   "cell_type": "markdown",
   "metadata": {
    "id": "1D5Izz4UBhTp"
   },
   "source": [
    "### Verify, Test and Validate Functions"
   ]
  },
  {
   "cell_type": "code",
   "execution_count": 11,
   "metadata": {
    "id": "UAA6DEzz6Rnq"
   },
   "outputs": [],
   "source": [
    "def verify(images: np.ndarray, targets: np.ndarray) -> Tuple[int, int]:\n",
    "    ## Implement\n",
    "\n",
    "    outputs = model.forward(images)\n",
    "    predicted_classes = np.argmax(outputs, axis=1)\n",
    "    num_ok = np.sum(predicted_classes == targets)\n",
    "    total_num = images.shape[0]\n",
    "\n",
    "    ## End\n",
    "    return num_ok, total_num\n",
    "\n",
    "\n",
    "def test() -> float:\n",
    "    accumulated_ok = 0.0\n",
    "    count = 0\n",
    "\n",
    "    for i in range(0, len(test_set), batch_size):\n",
    "        images = test_set.images[i:i + batch_size]\n",
    "        labels = test_set.labels[i:i + batch_size]\n",
    "\n",
    "        ## Implement. Use the verify() function to verify your data.\n",
    "        batch_ok, batch_count = verify(images, labels)\n",
    "        count+= batch_count \n",
    "        accumulated_ok+= batch_ok\n",
    "        ## End\n",
    "\n",
    "    return accumulated_ok / count * 100.0\n",
    "\n",
    "\n",
    "def validate() -> float:\n",
    "    accumulated_ok = 0.0\n",
    "    count = 0\n",
    "\n",
    "    ## Implement. Use the verify() function to verify your data.\n",
    "    for i in range(0, len(train_validation_set), batch_size):\n",
    "        images = train_validation_set.images[validation_indices[i:i + batch_size]]\n",
    "        labels = train_validation_set.labels[validation_indices[i:i + batch_size]]\n",
    "\n",
    "        ## Implement. Use the verify() function to verify your data.\n",
    "        batch_ok, batch_count = verify(images, labels)\n",
    "        count+= batch_count \n",
    "        accumulated_ok+= batch_ok\n",
    "        ## End\n",
    "\n",
    "    ## End\n",
    "\n",
    "    return accumulated_ok/count * 100.0"
   ]
  },
  {
   "cell_type": "markdown",
   "metadata": {
    "id": "CFtbUNCaBobU"
   },
   "source": [
    "### Train Loop with Early Stopping"
   ]
  },
  {
   "cell_type": "code",
   "execution_count": 12,
   "metadata": {
    "id": "mUTnGmWS3GRt"
   },
   "outputs": [
    {
     "name": "stdout",
     "output_type": "stream",
     "text": [
      "Epoch 0: loss: 0.337000, validation accuracy: 91.11%\n",
      "Epoch 1: loss: 0.202887, validation accuracy: 92.47%\n",
      "Epoch 2: loss: 0.176085, validation accuracy: 93.27%\n",
      "Epoch 3: loss: 0.157635, validation accuracy: 93.57%\n",
      "Epoch 4: loss: 0.144241, validation accuracy: 93.92%\n",
      "Epoch 5: loss: 0.133815, validation accuracy: 94.19%\n",
      "Epoch 6: loss: 0.125517, validation accuracy: 94.37%\n",
      "Epoch 7: loss: 0.118613, validation accuracy: 94.49%\n",
      "Epoch 8: loss: 0.112713, validation accuracy: 94.61%\n",
      "Epoch 9: loss: 0.107627, validation accuracy: 94.69%\n",
      "Epoch 10: loss: 0.103267, validation accuracy: 94.77%\n",
      "Epoch 11: loss: 0.099382, validation accuracy: 94.78%\n",
      "Epoch 12: loss: 0.095955, validation accuracy: 94.89%\n",
      "Epoch 13: loss: 0.092803, validation accuracy: 94.92%\n",
      "Epoch 14: loss: 0.089974, validation accuracy: 94.97%\n",
      "Epoch 15: loss: 0.087427, validation accuracy: 94.95%\n",
      "Epoch 16: loss: 0.085121, validation accuracy: 94.99%\n",
      "Epoch 17: loss: 0.082954, validation accuracy: 95.01%\n",
      "Epoch 18: loss: 0.080947, validation accuracy: 95.02%\n",
      "Epoch 19: loss: 0.078964, validation accuracy: 94.97%\n",
      "Epoch 20: loss: 0.077133, validation accuracy: 94.96%\n",
      "Epoch 21: loss: 0.075355, validation accuracy: 95.00%\n",
      "Epoch 22: loss: 0.073649, validation accuracy: 95.02%\n",
      "Epoch 23: loss: 0.072143, validation accuracy: 94.99%\n",
      "Epoch 24: loss: 0.070588, validation accuracy: 95.00%\n",
      "Epoch 25: loss: 0.069233, validation accuracy: 95.00%\n",
      "Epoch 26: loss: 0.067825, validation accuracy: 95.01%\n",
      "Epoch 27: loss: 0.066564, validation accuracy: 94.97%\n",
      "Epoch 28: loss: 0.065306, validation accuracy: 94.95%\n",
      "Epoch 29: loss: 0.064239, validation accuracy: 94.93%\n",
      "Test set performance: 95.78%\n"
     ]
    }
   ],
   "source": [
    "import math\n",
    "## You should update these: best_validation_accuracy is the best validation set accuracy so far, best_epoch is the\n",
    "## epoch of this best validation accuracy (the later can be initialized by anything, as the accuracy will be for sure\n",
    "## better than 0, so it will be updated for sure).\n",
    "best_validation_accuracy = 0\n",
    "best_epoch = -1\n",
    "batch_count = math.ceil(len(train_validation_set) / batch_size)\n",
    "\n",
    "\n",
    "for epoch in range(200):\n",
    "    ## Implement\n",
    "    ## Use a for-loop to go through all the mini-batches (with the given batch\n",
    "    ## size) in the training set, then compute the validation accuracy using\n",
    "    ## validate()\n",
    "    current_loss_value = 0\n",
    "    for i in range(0, n_train, batch_size):\n",
    "        images = train_validation_set.images[train_indices[i:i + batch_size]]\n",
    "        labels = train_validation_set.labels[train_indices[i:i + batch_size]]\n",
    "        batch_loss = train_one_step(model, loss, learning_rate, images, labels, weight_decay=0.0005)\n",
    "        current_loss_value += batch_loss\n",
    "        \n",
    "\n",
    "    current_loss_value = current_loss_value / batch_count\n",
    "    \n",
    "    validation_accuracy = validate()\n",
    "\n",
    "\n",
    "    ## End\n",
    "\n",
    "    print(\"Epoch %d: loss: %f, validation accuracy: %.2f%%\" % (epoch, current_loss_value, validation_accuracy))\n",
    "    ## Implement\n",
    "    ## Hint: you should check if current accuracy is better that the best so far. If it is not, check before how many\n",
    "    ## iterations ago the best one came, and terminate if it is more than 10. Also update the best_* variables\n",
    "    ## if needed.\n",
    "\n",
    "    if best_validation_accuracy < validation_accuracy:\n",
    "        best_validation_accuracy = validation_accuracy\n",
    "        best_epoch = epoch\n",
    "    elif epoch - best_epoch > 10:\n",
    "        break\n",
    "\n",
    "    # End\n",
    "\n",
    "print(\"Test set performance: %.2f%%\" % test())"
   ]
  }
 ],
 "metadata": {
  "colab": {
   "provenance": [],
   "toc_visible": true
  },
  "kernelspec": {
   "display_name": "Python 3 (ipykernel)",
   "language": "python",
   "name": "python3"
  },
  "language_info": {
   "codemirror_mode": {
    "name": "ipython",
    "version": 3
   },
   "file_extension": ".py",
   "mimetype": "text/x-python",
   "name": "python",
   "nbconvert_exporter": "python",
   "pygments_lexer": "ipython3",
   "version": "3.11.9"
  }
 },
 "nbformat": 4,
 "nbformat_minor": 4
}
